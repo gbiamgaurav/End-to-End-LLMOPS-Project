{
 "cells": [
  {
   "cell_type": "code",
   "execution_count": 1,
   "id": "631fd581",
   "metadata": {},
   "outputs": [],
   "source": [
    "import os \n",
    "from dotenv import load_dotenv\n",
    "load_dotenv()\n",
    "\n",
    "os.environ[\"GOOGLE_API_KEY\"] = os.getenv(\"GOOGLE_API_KEY\")"
   ]
  },
  {
   "cell_type": "markdown",
   "id": "18d1bb3c",
   "metadata": {},
   "source": [
    "## Data Ingestion"
   ]
  },
  {
   "cell_type": "code",
   "execution_count": 2,
   "metadata": {},
   "outputs": [],
   "source": [
    "from langchain_community.document_loaders import TextLoader"
   ]
  },
  {
   "cell_type": "code",
   "execution_count": 3,
   "id": "a80cce83",
   "metadata": {},
   "outputs": [
    {
     "data": {
      "text/plain": [
       "'d:\\\\GitHub\\\\End-to-End-LLMOPS-Project\\\\notebook'"
      ]
     },
     "execution_count": 3,
     "metadata": {},
     "output_type": "execute_result"
    }
   ],
   "source": [
    "%pwd"
   ]
  },
  {
   "cell_type": "code",
   "execution_count": 4,
   "id": "2f0ef8db",
   "metadata": {},
   "outputs": [
    {
     "data": {
      "text/plain": [
       "'d:\\\\GitHub\\\\End-to-End-LLMOPS-Project'"
      ]
     },
     "execution_count": 4,
     "metadata": {},
     "output_type": "execute_result"
    }
   ],
   "source": [
    "os.chdir(\"../\")\n",
    "%pwd\n"
   ]
  },
  {
   "cell_type": "code",
   "execution_count": 5,
   "metadata": {},
   "outputs": [],
   "source": [
    "loader = TextLoader(\"data\\data.txt\", encoding=\"utf-8\")\n",
    "documents = loader.load()\n"
   ]
  },
  {
   "cell_type": "code",
   "execution_count": 6,
   "metadata": {},
   "outputs": [
    {
     "name": "stdout",
     "output_type": "stream",
     "text": [
      "page_content='\n",
      "That's a great follow-up question\\! To commit your changes in your local Git branch, you need to follow a three-step process: **Check Status, Stage, and Commit**.\n",
      "\n",
      "Here are the commands you'll use:\n",
      "\n",
      "-----\n",
      "\n",
      "## 1\\. Check the Status\n",
      "\n",
      "First, always check the status to see which files you've modified and which are ready to be staged.\n",
      "\n",
      "```bash\n",
      "git status\n",
      "```\n",
      "\n",
      "This command will show you:\n",
      "\n",
      "  * Which branch you are currently on.\n",
      "  * Files that are **Untracked** (newly created files).\n",
      "  * Files that are **Modified** (existing files you've changed).\n",
      "  * Files that are **Staged** (files ready for the commit).\n",
      "\n",
      "-----\n",
      "\n",
      "## 2\\. Stage Your Changes (Add)\n",
      "\n",
      "Next, you must **stage** the changes you want to include in the commit. Staging is like putting specific files (or parts of files) into a box, ready to be sealed with a commit.\n",
      "\n",
      "### A. To stage ALL modified and untracked files:\n",
      "\n",
      "This is the most common way.\n",
      "\n",
      "```bash\n",
      "git add .\n",
      "```\n",
      "\n",
      "### B. To stage a specific file:\n",
      "\n",
      "If you only want to commit changes from a single file, use its path:\n",
      "\n",
      "```bash\n",
      "git add <file-name>\n",
      "# e.g., git add src/App.js\n",
      "```\n",
      "\n",
      "### C. To stage specific parts of a file (interactive staging):\n",
      "\n",
      "If you want to include only certain lines of a file in the commit (leaving other changes in the same file unstaged), use the `-p` flag:\n",
      "\n",
      "```bash\n",
      "git add -p <file-name>\n",
      "```\n",
      "\n",
      "-----\n",
      "\n",
      "## 3\\. Commit the Staged Changes\n",
      "\n",
      "Finally, you **commit** the staged files. A commit is a snapshot of your repository at a specific point in time, and it requires a **commit message**.\n",
      "\n",
      "```bash\n",
      "git commit -m \"Your concise, descriptive commit message here\"\n",
      "```\n",
      "\n",
      "**Example:**\n",
      "\n",
      "```bash\n",
      "git commit -m \"feat: Add user authentication component\"\n",
      "```\n",
      "\n",
      "### 🔑 Important Tips for Commit Messages:\n",
      "\n",
      "  * **Be Descriptive:** Explain *what* the commit does, not *why* you are doing it.\n",
      "  * **Keep it Concise:** The first line (subject) should be under 50 characters.\n",
      "  * **Use the Imperative Mood:** Start with a verb (\"Fix bug,\" \"Add feature,\" \"Update README,\" not \"Fixed bug\" or \"Adding feature\").\n",
      "  * **Follow Conventional Commits (Optional but Recommended):** Prefix your message with a type, like:\n",
      "      * `feat`: A new feature.\n",
      "      * `fix`: A bug fix.\n",
      "      * `docs`: Documentation only changes.\n",
      "      * `style`: Code formatting, semicolons, etc.\n",
      "      * `refactor`: A code change that neither fixes a bug nor adds a feature.\n",
      "\n",
      "After running `git commit`, your changes are saved locally on your current branch\\!' metadata={'source': 'data\\\\data.txt'}\n",
      "\n",
      "That's a great follow-up question\\! To commit your changes in your local Git branch, you need to follow a three-step process: **Check Status, Stage, and Commit**.\n",
      "\n",
      "Here are the commands you'll use:\n",
      "\n",
      "-----\n",
      "\n",
      "## 1\\. Check the Status\n",
      "\n",
      "First, always check the status to see which files you've modified and which are ready to be staged.\n",
      "\n",
      "```bash\n",
      "git status\n",
      "```\n",
      "\n",
      "This command will show you:\n",
      "\n",
      "  * Which branch you are currently on.\n",
      "  * Files that are **Untracked** (newly created files).\n",
      "  * Files that are \n"
     ]
    }
   ],
   "source": [
    "print(documents[0])\n",
    "\n",
    "print(documents[0].page_content[:500])"
   ]
  },
  {
   "cell_type": "code",
   "execution_count": 7,
   "id": "c439ab87",
   "metadata": {},
   "outputs": [],
   "source": [
    "from langchain_text_splitters import RecursiveCharacterTextSplitter"
   ]
  },
  {
   "cell_type": "code",
   "execution_count": 8,
   "metadata": {},
   "outputs": [],
   "source": [
    "text_splitter = RecursiveCharacterTextSplitter(chunk_size=200, chunk_overlap=20)"
   ]
  },
  {
   "cell_type": "code",
   "execution_count": 9,
   "id": "73a935f9",
   "metadata": {},
   "outputs": [],
   "source": [
    "text_chunks = text_splitter.split_documents(documents)"
   ]
  },
  {
   "cell_type": "code",
   "execution_count": 10,
   "id": "be08116a",
   "metadata": {},
   "outputs": [
    {
     "data": {
      "text/plain": [
       "[Document(metadata={'source': 'data\\\\data.txt'}, page_content=\"That's a great follow-up question\\\\! To commit your changes in your local Git branch, you need to follow a three-step process: **Check Status, Stage, and Commit**.\\n\\nHere are the commands you'll use:\"),\n",
       " Document(metadata={'source': 'data\\\\data.txt'}, page_content=\"-----\\n\\n## 1\\\\. Check the Status\\n\\nFirst, always check the status to see which files you've modified and which are ready to be staged.\\n\\n```bash\\ngit status\\n```\\n\\nThis command will show you:\"),\n",
       " Document(metadata={'source': 'data\\\\data.txt'}, page_content=\"* Which branch you are currently on.\\n  * Files that are **Untracked** (newly created files).\\n  * Files that are **Modified** (existing files you've changed).\"),\n",
       " Document(metadata={'source': 'data\\\\data.txt'}, page_content='* Files that are **Staged** (files ready for the commit).'),\n",
       " Document(metadata={'source': 'data\\\\data.txt'}, page_content='-----\\n\\n## 2\\\\. Stage Your Changes (Add)'),\n",
       " Document(metadata={'source': 'data\\\\data.txt'}, page_content='Next, you must **stage** the changes you want to include in the commit. Staging is like putting specific files (or parts of files) into a box, ready to be sealed with a commit.'),\n",
       " Document(metadata={'source': 'data\\\\data.txt'}, page_content='### A. To stage ALL modified and untracked files:\\n\\nThis is the most common way.\\n\\n```bash\\ngit add .\\n```\\n\\n### B. To stage a specific file:'),\n",
       " Document(metadata={'source': 'data\\\\data.txt'}, page_content='If you only want to commit changes from a single file, use its path:\\n\\n```bash\\ngit add <file-name>\\n# e.g., git add src/App.js\\n```\\n\\n### C. To stage specific parts of a file (interactive staging):'),\n",
       " Document(metadata={'source': 'data\\\\data.txt'}, page_content='If you want to include only certain lines of a file in the commit (leaving other changes in the same file unstaged), use the `-p` flag:\\n\\n```bash\\ngit add -p <file-name>\\n```\\n\\n-----'),\n",
       " Document(metadata={'source': 'data\\\\data.txt'}, page_content='-----\\n\\n## 3\\\\. Commit the Staged Changes\\n\\nFinally, you **commit** the staged files. A commit is a snapshot of your repository at a specific point in time, and it requires a **commit message**.'),\n",
       " Document(metadata={'source': 'data\\\\data.txt'}, page_content='```bash\\ngit commit -m \"Your concise, descriptive commit message here\"\\n```\\n\\n**Example:**\\n\\n```bash\\ngit commit -m \"feat: Add user authentication component\"\\n```'),\n",
       " Document(metadata={'source': 'data\\\\data.txt'}, page_content='### 🔑 Important Tips for Commit Messages:'),\n",
       " Document(metadata={'source': 'data\\\\data.txt'}, page_content='* **Be Descriptive:** Explain *what* the commit does, not *why* you are doing it.\\n  * **Keep it Concise:** The first line (subject) should be under 50 characters.'),\n",
       " Document(metadata={'source': 'data\\\\data.txt'}, page_content='* **Use the Imperative Mood:** Start with a verb (\"Fix bug,\" \"Add feature,\" \"Update README,\" not \"Fixed bug\" or \"Adding feature\").'),\n",
       " Document(metadata={'source': 'data\\\\data.txt'}, page_content='* **Follow Conventional Commits (Optional but Recommended):** Prefix your message with a type, like:\\n      * `feat`: A new feature.\\n      * `fix`: A bug fix.'),\n",
       " Document(metadata={'source': 'data\\\\data.txt'}, page_content='* `docs`: Documentation only changes.\\n      * `style`: Code formatting, semicolons, etc.\\n      * `refactor`: A code change that neither fixes a bug nor adds a feature.'),\n",
       " Document(metadata={'source': 'data\\\\data.txt'}, page_content='After running `git commit`, your changes are saved locally on your current branch\\\\!')]"
      ]
     },
     "execution_count": 10,
     "metadata": {},
     "output_type": "execute_result"
    }
   ],
   "source": [
    "text_chunks"
   ]
  },
  {
   "cell_type": "code",
   "execution_count": 11,
   "id": "c6a3b5b2",
   "metadata": {},
   "outputs": [],
   "source": [
    "#!uv pip install faiss-cpu"
   ]
  },
  {
   "cell_type": "code",
   "execution_count": 12,
   "id": "6a5e3118",
   "metadata": {},
   "outputs": [
    {
     "data": {
      "text/plain": [
       "GoogleGenerativeAIEmbeddings(client=<google.ai.generativelanguage_v1beta.services.generative_service.client.GenerativeServiceClient object at 0x0000022FEBEAE150>, async_client=None, model='models/gemini-embedding-001', task_type=None, google_api_key=SecretStr('**********'), credentials=None, client_options=None, transport=None, request_options=None)"
      ]
     },
     "execution_count": 12,
     "metadata": {},
     "output_type": "execute_result"
    }
   ],
   "source": [
    "from langchain_google_genai import GoogleGenerativeAIEmbeddings\n",
    "\n",
    "from langchain_community.vectorstores import FAISS\n",
    "\n",
    "embeddings = GoogleGenerativeAIEmbeddings(model=\"models/gemini-embedding-001\")\n",
    "\n",
    "embeddings"
   ]
  },
  {
   "cell_type": "code",
   "execution_count": 13,
   "id": "b9bcf18a",
   "metadata": {},
   "outputs": [
    {
     "data": {
      "text/plain": [
       "[-0.02276923693716526,\n",
       " 0.010134130716323853,\n",
       " 0.011886735446751118,\n",
       " -0.09669032692909241,\n",
       " -0.0027089761570096016]"
      ]
     },
     "execution_count": 13,
     "metadata": {},
     "output_type": "execute_result"
    }
   ],
   "source": [
    "vector = embeddings.embed_query(\"hello, world!\")\n",
    "vector[:5]"
   ]
  },
  {
   "cell_type": "code",
   "execution_count": 14,
   "id": "4beebc44",
   "metadata": {},
   "outputs": [],
   "source": [
    "vectorstore = FAISS.from_documents(text_chunks, embeddings)"
   ]
  },
  {
   "cell_type": "code",
   "execution_count": 25,
   "id": "aa3442f7",
   "metadata": {},
   "outputs": [],
   "source": [
    "retriever = vectorstore.as_retriever()"
   ]
  },
  {
   "cell_type": "code",
   "execution_count": 15,
   "id": "2914aa4f",
   "metadata": {},
   "outputs": [],
   "source": [
    "## OpenAIEmbeddings\n",
    "\n",
    "#!uv pip install langchain_openai"
   ]
  },
  {
   "cell_type": "code",
   "execution_count": 16,
   "metadata": {},
   "outputs": [],
   "source": [
    "#from langchain_openai import OpenAIEmbeddings\n",
    "#from langchain_community.vectorstores import FAISS\n",
    "\n",
    "#embedings = OpenAIEmbeddings()\n",
    "#vectorstore = FAISS.from_documents(text_chunks, embeddings)"
   ]
  },
  {
   "cell_type": "code",
   "execution_count": 17,
   "id": "f0c98587",
   "metadata": {},
   "outputs": [
    {
     "data": {
      "text/plain": [
       "<langchain_community.vectorstores.faiss.FAISS at 0x22febec7650>"
      ]
     },
     "execution_count": 17,
     "metadata": {},
     "output_type": "execute_result"
    }
   ],
   "source": [
    "vectorstore"
   ]
  },
  {
   "cell_type": "markdown",
   "id": "e47706db",
   "metadata": {},
   "source": [
    "## Data Retrieval"
   ]
  },
  {
   "cell_type": "code",
   "execution_count": 18,
   "id": "d6d562f9",
   "metadata": {},
   "outputs": [
    {
     "name": "stdout",
     "output_type": "stream",
     "text": [
      "Document 1:\n",
      "-----\n",
      "\n",
      "## 1\\. Check the Status\n",
      "\n",
      "First, always check the status to see which files you've modified and which are ready to be staged.\n",
      "\n",
      "```bash\n",
      "git status\n",
      "```\n",
      "\n",
      "This command will show you:\n",
      "__________________________________________________\n",
      "Document 2:\n",
      "That's a great follow-up question\\! To commit your changes in your local Git branch, you need to follow a three-step process: **Check Status, Stage, and Commit**.\n",
      "\n",
      "Here are the commands you'll use:\n",
      "__________________________________________________\n",
      "Document 3:\n",
      "-----\n",
      "\n",
      "## 2\\. Stage Your Changes (Add)\n",
      "__________________________________________________\n",
      "Document 4:\n",
      "-----\n",
      "\n",
      "## 3\\. Commit the Staged Changes\n",
      "\n",
      "Finally, you **commit** the staged files. A commit is a snapshot of your repository at a specific point in time, and it requires a **commit message**.\n",
      "__________________________________________________\n"
     ]
    }
   ],
   "source": [
    "# perform similiarity search \n",
    "query = \"what are the git commands?\"\n",
    "docs = vectorstore.similarity_search(query, k=4)\n",
    "\n",
    "# Display the results\n",
    "for i, doc in enumerate(docs):\n",
    "    print(f\"Document {i+1}:\")\n",
    "    print(doc.page_content)\n",
    "    print(\"_\" * 50)"
   ]
  },
  {
   "cell_type": "markdown",
   "id": "59aa58b2",
   "metadata": {},
   "source": [
    "## Data Generation"
   ]
  },
  {
   "cell_type": "code",
   "execution_count": 19,
   "id": "20eecbd6",
   "metadata": {},
   "outputs": [],
   "source": [
    "from langchain_core.prompts import ChatPromptTemplate\n",
    "\n",
    "template = \"\"\"You are an assistant for question-answering tasks.\n",
    "Use the following pieces of retrieved conext to answer the question.\n",
    "If you don't know the answer, just say that you don't know.\n",
    "Use ten sentences maximum and keep the answer concise.\n",
    "Question: {question}\n",
    "Context: {context}\n",
    "Answer: \"\"\""
   ]
  },
  {
   "cell_type": "code",
   "execution_count": 21,
   "id": "bb5b8b69",
   "metadata": {},
   "outputs": [
    {
     "data": {
      "text/plain": [
       "ChatPromptTemplate(input_variables=['context', 'question'], input_types={}, partial_variables={}, messages=[HumanMessagePromptTemplate(prompt=PromptTemplate(input_variables=['context', 'question'], input_types={}, partial_variables={}, template=\"You are an assistant for question-answering tasks.\\nUse the following pieces of retrieved conext to answer the question.\\nIf you don't know the answer, just say that you don't know.\\nUse ten sentences maximum and keep the answer concise.\\nQuestion: {question}\\nContext: {context}\\nAnswer: \"), additional_kwargs={})])"
      ]
     },
     "execution_count": 21,
     "metadata": {},
     "output_type": "execute_result"
    }
   ],
   "source": [
    "prompt = ChatPromptTemplate.from_template(template)\n",
    "\n",
    "prompt"
   ]
  },
  {
   "cell_type": "code",
   "execution_count": 22,
   "id": "cabbfbfc",
   "metadata": {},
   "outputs": [],
   "source": [
    "from langchain_core.output_parsers.string import StrOutputParser\n",
    "output_parser = StrOutputParser()"
   ]
  },
  {
   "cell_type": "code",
   "execution_count": 23,
   "id": "a3d72ffb",
   "metadata": {},
   "outputs": [
    {
     "data": {
      "text/plain": [
       "AIMessage(content='Hi there! How can I help you today?', additional_kwargs={}, response_metadata={'prompt_feedback': {'block_reason': 0, 'safety_ratings': []}, 'finish_reason': 'STOP', 'model_name': 'gemini-2.5-flash', 'safety_ratings': [], 'grounding_metadata': {}, 'model_provider': 'google_genai'}, id='lc_run--dbe030a3-d6f5-4e1b-907c-18f06971c52f-0', usage_metadata={'input_tokens': 2, 'output_tokens': 161, 'total_tokens': 163, 'input_token_details': {'cache_read': 0}, 'output_token_details': {'reasoning': 151}})"
      ]
     },
     "execution_count": 23,
     "metadata": {},
     "output_type": "execute_result"
    }
   ],
   "source": [
    "from langchain_google_genai import ChatGoogleGenerativeAI\n",
    "llm = ChatGoogleGenerativeAI(model=\"gemini-2.5-flash\")\n",
    "\n",
    "llm.invoke(\"hi\")"
   ]
  },
  {
   "cell_type": "code",
   "execution_count": 24,
   "id": "5da4d64d",
   "metadata": {},
   "outputs": [],
   "source": [
    "## Use ChatOpenAI\n",
    "\n",
    "#from langchain_openai import ChatOpenAI\n",
    "#llm = ChatOpenAI(model_name=\"gpt-4o-mini\")"
   ]
  },
  {
   "cell_type": "code",
   "execution_count": 27,
   "id": "20fb2a1f",
   "metadata": {},
   "outputs": [],
   "source": [
    "# create a Chain\n",
    "\n",
    "from langchain_core.runnables.passthrough import RunnablePassthrough\n",
    "\n",
    "rag_chain = (\n",
    "    {\n",
    "        \"context\": retriever, \"question\": RunnablePassthrough()}\n",
    "        | prompt \n",
    "        | llm\n",
    "        | output_parser\n",
    ")"
   ]
  },
  {
   "cell_type": "code",
   "execution_count": 28,
   "id": "602d5ab4",
   "metadata": {},
   "outputs": [
    {
     "data": {
      "text/plain": [
       "'To commit changes in a local Git branch, a three-step process of checking status, staging, and committing is followed. The `git status` command is used first to see which files have been modified and which are ready to be staged. This command provides an overview of the current state of your repository. After checking the status, the next step is to stage your changes. To stage all modified and untracked files, the command `git add .` is commonly used. This prepares the files for the commit process.'"
      ]
     },
     "execution_count": 28,
     "metadata": {},
     "output_type": "execute_result"
    }
   ],
   "source": [
    "rag_chain.invoke(\"Tell me about the git commands\")"
   ]
  },
  {
   "cell_type": "code",
   "execution_count": null,
   "id": "15537b43",
   "metadata": {},
   "outputs": [],
   "source": []
  }
 ],
 "metadata": {
  "kernelspec": {
   "display_name": "End-to-End-LLMOPS-Project",
   "language": "python",
   "name": "python3"
  },
  "language_info": {
   "codemirror_mode": {
    "name": "ipython",
    "version": 3
   },
   "file_extension": ".py",
   "mimetype": "text/x-python",
   "name": "python",
   "nbconvert_exporter": "python",
   "pygments_lexer": "ipython3",
   "version": "3.11.13"
  }
 },
 "nbformat": 4,
 "nbformat_minor": 5
}
